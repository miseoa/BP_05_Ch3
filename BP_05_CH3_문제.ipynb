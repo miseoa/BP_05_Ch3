{
  "nbformat": 4,
  "nbformat_minor": 0,
  "metadata": {
    "colab": {
      "provenance": [],
      "authorship_tag": "ABX9TyPBYnnAqn9lYU5BLDdENzkJ",
      "include_colab_link": true
    },
    "kernelspec": {
      "name": "python3",
      "display_name": "Python 3"
    },
    "language_info": {
      "name": "python"
    }
  },
  "cells": [
    {
      "cell_type": "markdown",
      "metadata": {
        "id": "view-in-github",
        "colab_type": "text"
      },
      "source": [
        "<a href=\"https://colab.research.google.com/github/miseoa/BP_05_Ch3/blob/main/BP_05_CH3_%EB%AC%B8%EC%A0%9C.ipynb\" target=\"_parent\"><img src=\"https://colab.research.google.com/assets/colab-badge.svg\" alt=\"Open In Colab\"/></a>"
      ]
    },
    {
      "cell_type": "markdown",
      "source": [
        "1. 사용자로부터 두 개의 정수를 받아서 정수의 합, 정수의 차, 정수의 곱, 정수의 평균, 큰 수, 작은 수를 계산하여 출력하는 프로그램을 작성하라. 파이썬이 제공하는 내장 함수MAX(X,Y),MIN(X,Y)을 사용해보자."
      ],
      "metadata": {
        "id": "SGbkxDF5M4oy"
      }
    },
    {
      "cell_type": "code",
      "execution_count": 1,
      "metadata": {
        "colab": {
          "base_uri": "https://localhost:8080/"
        },
        "id": "keOKxqTaM3pj",
        "outputId": "49781728-1be2-4577-fcd6-4910de6bd83e"
      },
      "outputs": [
        {
          "output_type": "stream",
          "name": "stdout",
          "text": [
            "첫 번째 정수를 입력해주세요.:10\n",
            "두 번째 정수를 입력해주세요.:20\n",
            "두 수의 합: 30\n",
            "두 수의 차: -10\n",
            "두 수의 곱: 200\n",
            "두 수의 평균: 15\n",
            "두 수 중 큰 수: 20\n",
            "두 수 중 작은 수: 10\n"
          ]
        }
      ],
      "source": [
        "a=int(input(\"첫 번째 정수를 입력해주세요.:\"))\n",
        "b=int(input(\"두 번째 정수를 입력해주세요.:\"))\n",
        "\n",
        "print(\"두 수의 합:\", a+b)\n",
        "print(\"두 수의 차:\", a-b)\n",
        "print(\"두 수의 곱:\", a*b)\n",
        "print(\"두 수의 평균:\", (a+b)//2)\n",
        "print(\"두 수 중 큰 수:\", max(a,b))\n",
        "print(\"두 수 중 작은 수:\", min(a,b))\n"
      ]
    },
    {
      "cell_type": "markdown",
      "source": [
        "2. 원기둥의 부피를 계산하는 프로그램을 작성해보자. 원기둥의 부피는 다음과 같이 계산한다."
      ],
      "metadata": {
        "id": "Z7-uT99HOK50"
      }
    },
    {
      "cell_type": "code",
      "source": [
        "r=int(input(\"반지름을 입력해주세요.:\"))\n",
        "h=int(input(\"높이를 입력해주세요.:\"))\n",
        "vol=3.141592\n",
        "v=vol*(r*r)*h\n",
        "print(\"원기둥의 부피:\",v)"
      ],
      "metadata": {
        "colab": {
          "base_uri": "https://localhost:8080/"
        },
        "id": "ES86g2B4OSlf",
        "outputId": "46d8c77d-ca21-4bdd-f4a0-88b21cd7e4fb"
      },
      "execution_count": 2,
      "outputs": [
        {
          "output_type": "stream",
          "name": "stdout",
          "text": [
            "반지름을 입력해주세요.:10\n",
            "높이를 입력해주세요.:100\n",
            "원기둥의 부피: 31415.92\n"
          ]
        }
      ]
    },
    {
      "cell_type": "markdown",
      "source": [
        "3. 사용자로부터 정수를 받아서 정수의 자리수의 합을 계산하는 프로그램을 작성하여 보자. 예를 들어서 사용자가 1234를 입력하였다면 1+2+3+4를 계산하면 된다. 나머지 연산자와 정수 나눗셈 연사자 //를 적극적으로 사용해보자."
      ],
      "metadata": {
        "id": "R-pXeYPU5Dvd"
      }
    },
    {
      "cell_type": "code",
      "source": [
        "n=int(input(\"정수를 입력해주세요.:\"))\n",
        "sum=0\n",
        "sum+=n%10\n",
        "n//=10\n",
        "sum+=n%10\n",
        "n//=10\n",
        "sum+=n%10\n",
        "n//=10\n",
        "sum+=n%10\n",
        "n//=10\n",
        "print(\"자리 수의 합:\", sum)"
      ],
      "metadata": {
        "colab": {
          "base_uri": "https://localhost:8080/"
        },
        "id": "BJ9HWMJQ5SvI",
        "outputId": "4aa02fe7-38bf-4892-e372-e90d568da97c"
      },
      "execution_count": 1,
      "outputs": [
        {
          "output_type": "stream",
          "name": "stdout",
          "text": [
            "정수를 입력해주세요.:1234\n",
            "자리 수의 합: 10\n"
          ]
        }
      ]
    },
    {
      "cell_type": "markdown",
      "source": [
        "4. 사용자로부터 두 점의 좌표 (x1,y1)과 (x2,y2)를 입력받아서 두 점 사이의 거리를 계산하는 프로그램을 작성해보자. 스크립트 모드로 작성하라. "
      ],
      "metadata": {
        "id": "3qB-5uEq50cW"
      }
    },
    {
      "cell_type": "code",
      "source": [
        "x1=int(input(\"x1:\"))\n",
        "y1=int(input(\"y1:\"))\n",
        "x2=int(input(\"x2:\"))\n",
        "y2=int(input(\"y2:\"))\n",
        "\n",
        "print(\"두 점 사이의 거리=\",((x1-x2)**2+(y1-y2)**2)**0.5)"
      ],
      "metadata": {
        "colab": {
          "base_uri": "https://localhost:8080/"
        },
        "id": "Lthzq0wF6Ezb",
        "outputId": "822ac0ae-126d-4168-800a-317309ce207d"
      },
      "execution_count": 2,
      "outputs": [
        {
          "output_type": "stream",
          "name": "stdout",
          "text": [
            "x1:0\n",
            "y1:0\n",
            "x2:100\n",
            "y2:100\n",
            "두 점 사이의 거리= 141.4213562373095\n"
          ]
        }
      ]
    },
    {
      "cell_type": "markdown",
      "source": [
        "8. 움직이는 물체의 운동 에너지를 계산해보자. 물체의 에너지를 계산하는 식은 1/2 *무게*속도*2이다."
      ],
      "metadata": {
        "id": "TmtdG8Wc6uT4"
      }
    },
    {
      "cell_type": "code",
      "source": [
        "weight=int(input(\"물체의 무게를 입력하시오(킬로그램):\"))\n",
        "speed=int(input(\"물체의 속도를 입력하시오(미터/초):\"))\n",
        "\n",
        "print(\"물체는\",1/2*weight*speed**2,\"(줄)의 에너지를 가지고 있다.\")"
      ],
      "metadata": {
        "colab": {
          "base_uri": "https://localhost:8080/"
        },
        "id": "PZij4KTq8rWz",
        "outputId": "af724168-3dca-4eae-e47f-b62710942e11"
      },
      "execution_count": 5,
      "outputs": [
        {
          "output_type": "stream",
          "name": "stdout",
          "text": [
            "물체의 무게를 입력하시오(킬로그램):10\n",
            "물체의 속도를 입력하시오(미터/초):100\n",
            "물체는 50000.0 (줄)의 에너지를 가지고 있다.\n"
          ]
        }
      ]
    }
  ]
}